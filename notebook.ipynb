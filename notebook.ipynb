{
 "cells": [
  {
   "cell_type": "markdown",
   "metadata": {},
   "source": [
    "# Boston housing"
   ]
  },
  {
   "cell_type": "markdown",
   "metadata": {},
   "source": [
    "## Resources\n",
    "\n",
    "- https://towardsdatascience.com/using-python-to-find-myself-a-rental-home-a0b1bf6f02e\n",
    "- https://github.com/johnludwigm/PyApartments\n",
    "- https://github.com/adinutzyc21/apartments-scraper\n",
    "- https://www.dataquest.io/blog/apartment-finding-slackbot/"
   ]
  },
  {
   "cell_type": "code",
   "execution_count": null,
   "metadata": {},
   "outputs": [],
   "source": [
    "# import requests as rq\n",
    "# from bs4 import BeautifulSoup\n",
    "# from urllib.request import urlopen,urlretrieve\n",
    "# urlopen(url)\n",
    "# urlretrieve(url, \"page1.html\")\n",
    "# page = rq.get(url)\n",
    "# soup = BeautifulSoup(page.content, \"html.parser\")\n",
    "# soup.find(class_=\"rentInfoDetail\")"
   ]
  },
  {
   "cell_type": "markdown",
   "metadata": {},
   "source": [
    "## Selenium\n",
    "\n",
    "### Installation\n",
    "\n",
    "| Browser | Webdriver |\n",
    "|---------|-----------------------------------------------|\n",
    "| Chrome: |\thttps://sites.google.com/chromium.org/driver/ |\n",
    "| Edge: |\thttps://developer.microsoft.com/en-us/microsoft-edge/tools/webdriver/ |\n",
    "| Firefox: |\thttps://github.com/mozilla/geckodriver/releases |\n",
    "\n",
    "### Simple usage\n",
    "https://selenium-python.readthedocs.io/getting-started.html#simple-usage\n",
    "\n",
    "### Locating elements\n",
    "https://selenium-python.readthedocs.io/locating-elements.html\n",
    "\n",
    "Example usage:\n",
    "```python\n",
    "from selenium.webdriver.common.by import By\n",
    "\n",
    "driver.find_element(By.XPATH, '//button[text()=\"Some text\"]')\n",
    "driver.find_elements(By.XPATH, '//button')\n",
    "```\n",
    "\n",
    "These are the attributes available for By class:\n",
    "```python\n",
    "ID = \"id\"\n",
    "XPATH = \"xpath\"\n",
    "LINK_TEXT = \"link text\"\n",
    "PARTIAL_LINK_TEXT = \"partial link text\"\n",
    "NAME = \"name\"\n",
    "TAG_NAME = \"tag name\"\n",
    "CLASS_NAME = \"class name\"\n",
    "CSS_SELECTOR = \"css selector\"\n",
    "```"
   ]
  },
  {
   "cell_type": "code",
   "execution_count": 1,
   "metadata": {},
   "outputs": [
    {
     "name": "stderr",
     "output_type": "stream",
     "text": [
      "C:\\Users\\badmo\\AppData\\Local\\Temp\\ipykernel_11036\\3684089475.py:2: DeprecationWarning: executable_path has been deprecated, please pass in a Service object\n",
      "  driver = webdriver.Chrome(\"chromedriver.exe\")\n"
     ]
    }
   ],
   "source": [
    "import pandas as pd\n",
    "from selenium import webdriver\n",
    "from selenium.webdriver.common.by import By\n",
    "driver = webdriver.Chrome(\"chromedriver.exe\")"
   ]
  },
  {
   "cell_type": "markdown",
   "metadata": {},
   "source": [
    "## Manual extract"
   ]
  },
  {
   "cell_type": "code",
   "execution_count": 84,
   "metadata": {},
   "outputs": [],
   "source": [
    "url = \"https://www.apartments.com/5-donnybrook-rd-boston-ma/rhyk6z3/\""
   ]
  },
  {
   "cell_type": "code",
   "execution_count": 85,
   "metadata": {},
   "outputs": [],
   "source": [
    "driver.get(url)"
   ]
  },
  {
   "cell_type": "code",
   "execution_count": 86,
   "metadata": {},
   "outputs": [
    {
     "data": {
      "text/plain": [
       "'$2,750'"
      ]
     },
     "execution_count": 86,
     "metadata": {},
     "output_type": "execute_result"
    }
   ],
   "source": [
    "# price = driver.find_element_by_class_name(\"rentInfoDetail\")\n",
    "price = driver.find_element(by=By.CLASS_NAME, value=\"rentInfoDetail\")\n",
    "price.text"
   ]
  },
  {
   "cell_type": "code",
   "execution_count": 87,
   "metadata": {},
   "outputs": [],
   "source": [
    "t = [\"price\",\"bedrooms\",\"bathrooms\",\"surface\"]"
   ]
  },
  {
   "cell_type": "code",
   "execution_count": 88,
   "metadata": {},
   "outputs": [
    {
     "data": {
      "text/plain": [
       "{'price': '$2,750',\n",
       " 'bedrooms': '3 bd',\n",
       " 'bathrooms': '2 ba',\n",
       " 'surface': '999 sq ft'}"
      ]
     },
     "execution_count": 88,
     "metadata": {},
     "output_type": "execute_result"
    }
   ],
   "source": [
    "info = driver.find_elements(by=By.CLASS_NAME, value=\"rentInfoDetail\")\n",
    "infos = [i.text for i in info]\n",
    "dict(zip(t,infos))"
   ]
  },
  {
   "cell_type": "code",
   "execution_count": 89,
   "metadata": {},
   "outputs": [
    {
     "data": {
      "text/plain": [
       "'5 Donnybrook Rd'"
      ]
     },
     "execution_count": 89,
     "metadata": {},
     "output_type": "execute_result"
    }
   ],
   "source": [
    "address = driver.find_element(by=By.CLASS_NAME, value=\"propertyAddressContainer\")\n",
    "street = address.find_element(by=By.TAG_NAME,value=\"span\").text\n",
    "street"
   ]
  },
  {
   "cell_type": "code",
   "execution_count": 94,
   "metadata": {},
   "outputs": [
    {
     "data": {
      "text/plain": [
       "'5 Donnybrook Rd, Boston, MA 02135'"
      ]
     },
     "execution_count": 94,
     "metadata": {},
     "output_type": "execute_result"
    }
   ],
   "source": [
    "address.text.split(\"\\n\")[0]"
   ]
  },
  {
   "cell_type": "code",
   "execution_count": 90,
   "metadata": {},
   "outputs": [
    {
     "data": {
      "text/plain": [
       "['5 Donnybrook Rd', 'Boston', 'MA 02135', 'MA', '02135', 'Oak Square', '']"
      ]
     },
     "execution_count": 90,
     "metadata": {},
     "output_type": "execute_result"
    }
   ],
   "source": [
    "[i.text for i in address.find_elements(by=By.TAG_NAME,value=\"span\")]"
   ]
  },
  {
   "cell_type": "code",
   "execution_count": 91,
   "metadata": {},
   "outputs": [
    {
     "data": {
      "text/html": [
       "<div>\n",
       "<style scoped>\n",
       "    .dataframe tbody tr th:only-of-type {\n",
       "        vertical-align: middle;\n",
       "    }\n",
       "\n",
       "    .dataframe tbody tr th {\n",
       "        vertical-align: top;\n",
       "    }\n",
       "\n",
       "    .dataframe thead th {\n",
       "        text-align: right;\n",
       "    }\n",
       "</style>\n",
       "<table border=\"1\" class=\"dataframe\">\n",
       "  <thead>\n",
       "    <tr style=\"text-align: right;\">\n",
       "      <th></th>\n",
       "      <th>price</th>\n",
       "      <th>bedrooms</th>\n",
       "      <th>bathrooms</th>\n",
       "      <th>surface</th>\n",
       "      <th>address</th>\n",
       "      <th>url</th>\n",
       "    </tr>\n",
       "  </thead>\n",
       "  <tbody>\n",
       "    <tr>\n",
       "      <th>0</th>\n",
       "      <td>$2,750</td>\n",
       "      <td>3 bd</td>\n",
       "      <td>2 ba</td>\n",
       "      <td>999 sq ft</td>\n",
       "      <td>5 Donnybrook Rd</td>\n",
       "      <td>https://www.apartments.com/5-donnybrook-rd-bos...</td>\n",
       "    </tr>\n",
       "  </tbody>\n",
       "</table>\n",
       "</div>"
      ],
      "text/plain": [
       "    price bedrooms bathrooms    surface          address  \\\n",
       "0  $2,750     3 bd      2 ba  999 sq ft  5 Donnybrook Rd   \n",
       "\n",
       "                                                 url  \n",
       "0  https://www.apartments.com/5-donnybrook-rd-bos...  "
      ]
     },
     "execution_count": 91,
     "metadata": {},
     "output_type": "execute_result"
    }
   ],
   "source": [
    "import pandas as pd\n",
    "df = pd.DataFrame([infos],columns=t)\n",
    "df[\"address\"] = street\n",
    "df[\"url\"] = url\n",
    "df"
   ]
  },
  {
   "cell_type": "markdown",
   "metadata": {},
   "source": [
    "## Automate"
   ]
  },
  {
   "cell_type": "markdown",
   "metadata": {},
   "source": [
    "https://www.apartments.com/5-donnybrook-rd-boston-ma/rhyk6z3/"
   ]
  },
  {
   "cell_type": "code",
   "execution_count": 101,
   "metadata": {},
   "outputs": [
    {
     "data": {
      "text/html": [
       "<div>\n",
       "<style scoped>\n",
       "    .dataframe tbody tr th:only-of-type {\n",
       "        vertical-align: middle;\n",
       "    }\n",
       "\n",
       "    .dataframe tbody tr th {\n",
       "        vertical-align: top;\n",
       "    }\n",
       "\n",
       "    .dataframe thead th {\n",
       "        text-align: right;\n",
       "    }\n",
       "</style>\n",
       "<table border=\"1\" class=\"dataframe\">\n",
       "  <thead>\n",
       "    <tr style=\"text-align: right;\">\n",
       "      <th></th>\n",
       "      <th>address</th>\n",
       "      <th>price</th>\n",
       "      <th>bedrooms</th>\n",
       "      <th>bathrooms</th>\n",
       "      <th>surface</th>\n",
       "      <th>url</th>\n",
       "    </tr>\n",
       "  </thead>\n",
       "  <tbody>\n",
       "  </tbody>\n",
       "</table>\n",
       "</div>"
      ],
      "text/plain": [
       "Empty DataFrame\n",
       "Columns: [address, price, bedrooms, bathrooms, surface, url]\n",
       "Index: []"
      ]
     },
     "execution_count": 101,
     "metadata": {},
     "output_type": "execute_result"
    }
   ],
   "source": [
    "# initialize dataframe\n",
    "t0 = [\"address\",\"price\",\"bedrooms\",\"bathrooms\",\"surface\",\"url\"]\n",
    "df = pd.DataFrame(columns=t0)\n",
    "# df = pd.read_csv(\"boston.csv\",index_col=None)\n",
    "df"
   ]
  },
  {
   "cell_type": "code",
   "execution_count": 102,
   "metadata": {},
   "outputs": [
    {
     "data": {
      "text/html": [
       "<div>\n",
       "<style scoped>\n",
       "    .dataframe tbody tr th:only-of-type {\n",
       "        vertical-align: middle;\n",
       "    }\n",
       "\n",
       "    .dataframe tbody tr th {\n",
       "        vertical-align: top;\n",
       "    }\n",
       "\n",
       "    .dataframe thead th {\n",
       "        text-align: right;\n",
       "    }\n",
       "</style>\n",
       "<table border=\"1\" class=\"dataframe\">\n",
       "  <thead>\n",
       "    <tr style=\"text-align: right;\">\n",
       "      <th></th>\n",
       "      <th>address</th>\n",
       "      <th>price</th>\n",
       "      <th>bedrooms</th>\n",
       "      <th>bathrooms</th>\n",
       "      <th>surface</th>\n",
       "      <th>url</th>\n",
       "      <th>location</th>\n",
       "      <th>point</th>\n",
       "      <th>latitude</th>\n",
       "      <th>longitude</th>\n",
       "      <th>altitude</th>\n",
       "    </tr>\n",
       "  </thead>\n",
       "  <tbody>\n",
       "    <tr>\n",
       "      <th>0</th>\n",
       "      <td>5 Donnybrook Rd, Boston, MA 02135</td>\n",
       "      <td>$2,750</td>\n",
       "      <td>3 bd</td>\n",
       "      <td>2 ba</td>\n",
       "      <td>999 sq ft</td>\n",
       "      <td>https://www.apartments.com/5-donnybrook-rd-bos...</td>\n",
       "      <td>(5, Donnybrook Road, Faneuil, Brighton, Boston...</td>\n",
       "      <td>(42.35408248177119, -71.15858979568584, 0.0)</td>\n",
       "      <td>42.354082</td>\n",
       "      <td>-71.15859</td>\n",
       "      <td>0.0</td>\n",
       "    </tr>\n",
       "  </tbody>\n",
       "</table>\n",
       "</div>"
      ],
      "text/plain": [
       "                             address   price bedrooms bathrooms    surface  \\\n",
       "0  5 Donnybrook Rd, Boston, MA 02135  $2,750     3 bd      2 ba  999 sq ft   \n",
       "\n",
       "                                                 url  \\\n",
       "0  https://www.apartments.com/5-donnybrook-rd-bos...   \n",
       "\n",
       "                                            location  \\\n",
       "0  (5, Donnybrook Road, Faneuil, Brighton, Boston...   \n",
       "\n",
       "                                          point   latitude  longitude  \\\n",
       "0  (42.35408248177119, -71.15858979568584, 0.0)  42.354082  -71.15859   \n",
       "\n",
       "   altitude  \n",
       "0       0.0  "
      ]
     },
     "execution_count": 102,
     "metadata": {},
     "output_type": "execute_result"
    }
   ],
   "source": [
    "import clipboard\n",
    "from helper import geosearch\n",
    "url = clipboard.paste()\n",
    "# print(url)\n",
    "driver.get(url)\n",
    "info_elems = driver.find_elements(by=By.CLASS_NAME, value=\"rentInfoDetail\")\n",
    "infos = [i.text for i in info_elems]\n",
    "address_elem = driver.find_element(by=By.CLASS_NAME, value=\"propertyAddressContainer\")\n",
    "address = address_elem.text.split(\"\\n\")[0]\n",
    "infos.insert(0,address)\n",
    "infos.insert(5,url)\n",
    "df1 = pd.DataFrame([infos],columns=t0)\n",
    "df2 = geosearch(df1)\n",
    "df = pd.concat([df,df2],ignore_index=True)\n",
    "df.to_csv(\"boston.csv\",index=None)\n",
    "df"
   ]
  }
 ],
 "metadata": {
  "interpreter": {
   "hash": "5d0afc680ef930d32d960861d07fe5072cf577ab2b819485d9974f65e15b7ef5"
  },
  "kernelspec": {
   "display_name": "Python 3.9.1 64-bit",
   "language": "python",
   "name": "python3"
  },
  "language_info": {
   "codemirror_mode": {
    "name": "ipython",
    "version": 3
   },
   "file_extension": ".py",
   "mimetype": "text/x-python",
   "name": "python",
   "nbconvert_exporter": "python",
   "pygments_lexer": "ipython3",
   "version": "3.9.1"
  },
  "orig_nbformat": 4
 },
 "nbformat": 4,
 "nbformat_minor": 2
}
